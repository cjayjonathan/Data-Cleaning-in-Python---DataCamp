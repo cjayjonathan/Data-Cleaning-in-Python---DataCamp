{
  "nbformat": 4,
  "nbformat_minor": 0,
  "metadata": {
    "colab": {
      "name": "The cutoff point and Remapping categories II.ipynb",
      "provenance": [],
      "authorship_tag": "ABX9TyMGFrymx00W6sr8F3BPygOl",
      "include_colab_link": true
    },
    "kernelspec": {
      "name": "python3",
      "display_name": "Python 3"
    },
    "language_info": {
      "name": "python"
    }
  },
  "cells": [
    {
      "cell_type": "markdown",
      "metadata": {
        "id": "view-in-github",
        "colab_type": "text"
      },
      "source": [
        "<a href=\"https://colab.research.google.com/github/cjayjonathan/Data-Cleaning-in-Python---DataCamp/blob/main/The_cutoff_point_and_Remapping_categories_II.ipynb\" target=\"_parent\"><img src=\"https://colab.research.google.com/assets/colab-badge.svg\" alt=\"Open In Colab\"/></a>"
      ]
    },
    {
      "cell_type": "code",
      "execution_count": null,
      "metadata": {
        "id": "zAagApWMxUCW"
      },
      "outputs": [],
      "source": [
        "# Import process from fuzzywuzzy\n",
        "from fuzzywuzzy import process\n",
        "\n",
        "# Store the unique values of cuisine_type in unique_types\n",
        "unique_types = restaurants['cuisine_type'].unique()\n",
        "\n",
        "# Calculate similarity of 'asian' to all values of unique_types\n",
        "print(process.extract('asian', unique_types, limit = len(unique_types)))\n",
        "\n",
        "# Calculate similarity of 'american' to all values of unique_types\n",
        "print(process.extract('american', unique_types, limit = len(unique_types)))\n",
        "\n",
        "# Calculate similarity of 'italian' to all values of unique_types\n",
        "print(process.extract('italian', unique_types, limit = len(unique_types)))"
      ]
    },
    {
      "cell_type": "code",
      "source": [
        "# Inspect the unique values of the cuisine_type column\n",
        "print(restaurants['cuisine_type'].unique()\n",
        ")"
      ],
      "metadata": {
        "id": "xJZE8dMx72vy"
      },
      "execution_count": null,
      "outputs": []
    },
    {
      "cell_type": "code",
      "source": [
        "# Create a list of matches, comparing 'italian' with the cuisine_type column\n",
        "matches = process.extract('italian', restaurants['cuisine_type'], limit=len(restaurants.cuisine_type))\n",
        "\n",
        "# Inspect the first 5 matches\n",
        "print(matches[0:5])"
      ],
      "metadata": {
        "id": "oZYc2-Dn_K9_"
      },
      "execution_count": null,
      "outputs": []
    },
    {
      "cell_type": "code",
      "source": [
        "# Create a list of matches, comparing 'italian' with the cuisine_type column\n",
        "matches = process.extract('italian', restaurants['cuisine_type'], limit=len(restaurants.cuisine_type))\n",
        "\n",
        "# Iterate through the list of matches to italian\n",
        "for match in matches:\n",
        "  # Check whether the similarity score is greater than or equal to 80\n",
        "  if match[1] >= 80:\n",
        "    # Select all rows where the cuisine_type is spelled this way, and set them to the correct cuisine\n",
        "    restaurants.loc[restaurants['cuisine_type'] == match[0]] = 'italian'"
      ],
      "metadata": {
        "id": "vMfbAP83Araf"
      },
      "execution_count": null,
      "outputs": []
    },
    {
      "cell_type": "code",
      "source": [
        "# Iterate through categories\n",
        "for cuisine in categories:  \n",
        "  # Create a list of matches, comparing cuisine with the cuisine_type column\n",
        "  matches = process.extract(cuisine, restaurants['cuisine_type'], limit=len(restaurants.cuisine_type))\n",
        "\n",
        "  # Iterate through the list of matches\n",
        "  for match in matches:\n",
        "     # Check whether the similarity score is greater than or equal to 80\n",
        "    if match[1] >= 80:\n",
        "      # If it is, select all rows where the cuisine_type is spelled this way, and set them to the correct cuisine\n",
        "      restaurants.loc[restaurants['cuisine_type'] == match[0]] = cuisine\n",
        "      \n",
        "# Inspect the final result\n",
        "print(restaurants['cuisine_type'].unique())"
      ],
      "metadata": {
        "id": "hMvFCg-9Bg8W"
      },
      "execution_count": null,
      "outputs": []
    }
  ]
}