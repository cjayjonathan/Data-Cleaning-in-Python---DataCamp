{
  "nbformat": 4,
  "nbformat_minor": 0,
  "metadata": {
    "colab": {
      "name": "Finding Duplicates and Treating Duplicates - DataCamp.ipynb",
      "provenance": [],
      "authorship_tag": "ABX9TyOUnn8Zy6+AM3Kv4W1Uro+O",
      "include_colab_link": true
    },
    "kernelspec": {
      "name": "python3",
      "display_name": "Python 3"
    },
    "language_info": {
      "name": "python"
    }
  },
  "cells": [
    {
      "cell_type": "markdown",
      "metadata": {
        "id": "view-in-github",
        "colab_type": "text"
      },
      "source": [
        "<a href=\"https://colab.research.google.com/github/cjayjonathan/Data-Cleaning-in-Python---DataCamp/blob/main/Finding_Duplicates_and_Treating_Duplicates_DataCamp.ipynb\" target=\"_parent\"><img src=\"https://colab.research.google.com/assets/colab-badge.svg\" alt=\"Open In Colab\"/></a>"
      ]
    },
    {
      "cell_type": "code",
      "execution_count": null,
      "metadata": {
        "id": "8VFyslpTc-kt"
      },
      "outputs": [],
      "source": [
        "# loans.duplicated(subset = ['first_name', 'last_name'], keep = False)\n",
        "#  Because subsetting on consumer metadata and not discarding any duplicate returns all duplicated rows."
      ]
    },
    {
      "cell_type": "code",
      "source": [
        "# Find duplicates\n",
        "duplicates = ride_sharing.duplicated(subset = 'ride_id', keep = False)\n",
        "\n",
        "# Sort your duplicated rides\n",
        "duplicated_rides = ride_sharing[duplicates].sort_values('ride_id')\n",
        "\n",
        "# Print relevant columns of duplicated_rides\n",
        "print(duplicated_rides[['ride_id','duration','user_birth_year']])"
      ],
      "metadata": {
        "id": "00GpInVeiCgV"
      },
      "execution_count": null,
      "outputs": []
    },
    {
      "cell_type": "code",
      "source": [
        "# Treating duplicates\n",
        "\n",
        "# Drop complete duplicates from ride_sharing\n",
        "ride_dup = ride_sharing.drop_duplicates()\n",
        "\n",
        "# Create statistics dictionary for aggregation function\n",
        "statistics = {'user_birth_year': 'min', 'duration': 'mean'}\n",
        "\n",
        "# Group by ride_id and compute new statistics\n",
        "ride_unique = ride_dup.groupby('ride_id').agg(statistics).reset_index()\n",
        "\n",
        "# Find duplicated values again\n",
        "duplicates = ride_unique.duplicated(subset = 'ride_id', keep = False)\n",
        "duplicated_rides = ride_unique[duplicates == True]\n",
        "\n",
        "# Assert duplicates are processed\n",
        "assert duplicated_rides.shape[0] == 0"
      ],
      "metadata": {
        "id": "i4PYjTuOmAiA"
      },
      "execution_count": null,
      "outputs": []
    }
  ]
}